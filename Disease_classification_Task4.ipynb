{
  "nbformat": 4,
  "nbformat_minor": 0,
  "metadata": {
    "colab": {
      "provenance": []
    },
    "kernelspec": {
      "name": "python3",
      "display_name": "Python 3"
    },
    "language_info": {
      "name": "python"
    }
  },
  "cells": [
    {
      "cell_type": "code",
      "execution_count": 1,
      "metadata": {
        "colab": {
          "base_uri": "https://localhost:8080/",
          "height": 906
        },
        "id": "gWQ01Fz0iqZd",
        "outputId": "4b5d0a8e-2b42-4696-87aa-0ded78f4b4d9"
      },
      "outputs": [
        {
          "output_type": "stream",
          "name": "stdout",
          "text": [
            "   age  gender  blood_pressure  cholesterol  diabetes  smoking  \\\n",
            "0   69       0             103          212         1        0   \n",
            "1   32       0             178          290         0        1   \n",
            "2   89       1             173          165         0        0   \n",
            "3   78       0              91          252         1        0   \n",
            "4   38       0             159          230         0        1   \n",
            "\n",
            "   physical_activity  disease  \n",
            "0                  1        0  \n",
            "1                  0        1  \n",
            "2                  0        0  \n",
            "3                  0        1  \n",
            "4                  1        0  \n",
            "Accuracy: 0.87\n",
            "\n",
            "Classification Report:\n",
            "               precision    recall  f1-score   support\n",
            "\n",
            "           0       0.87      0.91      0.89       173\n",
            "           1       0.87      0.82      0.84       127\n",
            "\n",
            "    accuracy                           0.87       300\n",
            "   macro avg       0.87      0.86      0.87       300\n",
            "weighted avg       0.87      0.87      0.87       300\n",
            "\n"
          ]
        },
        {
          "output_type": "display_data",
          "data": {
            "text/plain": [
              "<Figure size 640x480 with 2 Axes>"
            ],
            "image/png": "[encoded data removed]"
          },
          "metadata": {}
        }
      ],
      "source": [
        "import pandas as pd\n",
        "import numpy as np\n",
        "from sklearn.model_selection import train_test_split\n",
        "from sklearn.preprocessing import StandardScaler\n",
        "from sklearn.ensemble import RandomForestClassifier\n",
        "from sklearn.metrics import classification_report, accuracy_score, confusion_matrix\n",
        "import matplotlib.pyplot as plt\n",
        "import seaborn as sns\n",
        "\n",
        "# Set the random seed for reproducibility\n",
        "np.random.seed(42)\n",
        "\n",
        "# Generate synthetic data\n",
        "n_samples = 1000\n",
        "\n",
        "data = pd.DataFrame({\n",
        "    'age': np.random.randint(18, 90, n_samples),\n",
        "    'gender': np.random.randint(0, 2, n_samples),\n",
        "    'blood_pressure': np.random.randint(90, 180, n_samples),\n",
        "    'cholesterol': np.random.randint(100, 300, n_samples),\n",
        "    'diabetes': np.random.randint(0, 2, n_samples),\n",
        "    'smoking': np.random.randint(0, 2, n_samples),\n",
        "    'physical_activity': np.random.randint(0, 2, n_samples),\n",
        "})\n",
        "\n",
        "# Introduce some correlation with the target variable\n",
        "data['disease'] = (\n",
        "    0.3 * (data['age'] > 50) +\n",
        "    0.3 * (data['blood_pressure'] > 140) +\n",
        "    0.2 * (data['cholesterol'] > 200) +\n",
        "    0.2 * data['diabetes'] +\n",
        "    0.1 * data['smoking'] -\n",
        "    0.2 * data['physical_activity'] +\n",
        "    np.random.normal(0, 0.1, n_samples)\n",
        ") > 0.5\n",
        "\n",
        "data['disease'] = data['disease'].astype(int)\n",
        "\n",
        "# Display the first few rows of the dataset\n",
        "print(data.head())\n",
        "\n",
        "# Splitting the dataset into features and target\n",
        "X = data.drop('disease', axis=1)\n",
        "y = data['disease']\n",
        "\n",
        "# Splitting the dataset into training and test sets\n",
        "X_train, X_test, y_train, y_test = train_test_split(X, y, test_size=0.3, random_state=42)\n",
        "\n",
        "# Feature scaling\n",
        "scaler = StandardScaler()\n",
        "X_train = scaler.fit_transform(X_train)\n",
        "X_test = scaler.transform(X_test)\n",
        "\n",
        "# Initialize and train the Random Forest model\n",
        "model = RandomForestClassifier(n_estimators=100, random_state=42)\n",
        "model.fit(X_train, y_train)\n",
        "\n",
        "# Make predictions\n",
        "y_pred = model.predict(X_test)\n",
        "\n",
        "# Evaluate the model\n",
        "print(\"Accuracy:\", accuracy_score(y_test, y_pred))\n",
        "print(\"\\nClassification Report:\\n\", classification_report(y_test, y_pred))\n",
        "\n",
        "# Confusion matrix\n",
        "conf_matrix = confusion_matrix(y_test, y_pred)\n",
        "sns.heatmap(conf_matrix, annot=True, fmt='d')\n",
        "plt.xlabel('Predicted')\n",
        "plt.ylabel('Actual')\n",
        "plt.title('Confusion Matrix')\n",
        "plt.show()\n"
      ]
    }
  ]
}